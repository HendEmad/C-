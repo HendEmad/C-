{
  "nbformat": 4,
  "nbformat_minor": 0,
  "metadata": {
    "colab": {
      "name": "Tic Tac Toe game.ipynb",
      "provenance": [],
      "collapsed_sections": []
    },
    "kernelspec": {
      "name": "python3",
      "display_name": "Python 3"
    },
    "language_info": {
      "name": "python"
    }
  },
  "cells": [
    {
      "cell_type": "code",
      "metadata": {
        "id": "yLka1v1WhkYd"
      },
      "source": [
        "#importing the random module to call the randint() function.\n",
        "import random "
      ],
      "execution_count": 1,
      "outputs": []
    },
    {
      "cell_type": "code",
      "metadata": {
        "id": "TUG04HA9ho-R"
      },
      "source": [
        "# Displaying the board\n",
        "def Board(board):\n",
        "    print('   |   |')\n",
        "    print(' ' + board[7] + ' | ' + board[8] + ' | ' + board[9])\n",
        "    print('   |   |')\n",
        "    print('-----------')\n",
        "    print('   |   |')\n",
        "    print(' ' + board[4] + ' | ' + board[5] + ' | ' + board[6])\n",
        "    print('   |   |')\n",
        "    print('-----------')\n",
        "    print('   |   |')\n",
        "    print(' ' + board[1] + ' | ' + board[2] + ' | ' + board[3])\n",
        "    print('   |   |')"
      ],
      "execution_count": 2,
      "outputs": []
    },
    {
      "cell_type": "code",
      "metadata": {
        "id": "_a1yoPTthxNp"
      },
      "source": [
        "# Getting the player letter(x || o)\n",
        "# This function returns a list with the player's letter as the first element, and the computer's letter as the second one\n",
        "def Player_Letter():\n",
        "    letter = ''\n",
        "    while not (letter == 'X' or letter == 'O'):\n",
        "        print('Choose your desired letter (X or O ?)')\n",
        "        letter = input().upper()\n",
        "\n",
        "    # the first element is the player's letter, the second is the computer's letter.\n",
        "    if letter == 'X':\n",
        "        return ['X', 'O']\n",
        "    else:\n",
        "        return ['O', 'X']"
      ],
      "execution_count": 3,
      "outputs": []
    },
    {
      "cell_type": "code",
      "metadata": {
        "id": "scOwY9msidhB"
      },
      "source": [
        "# Deciding who will start the game randomly\n",
        "def who_is_First():\n",
        "    if random.randint(0, 1) == 0:\n",
        "        return 'computer'\n",
        "    else:\n",
        "        return 'player'"
      ],
      "execution_count": 4,
      "outputs": []
    },
    {
      "cell_type": "code",
      "metadata": {
        "id": "vJB-N_IyivhS"
      },
      "source": [
        "# Asking the player wheter he want to play again or not\n",
        "# This function returns True if the player wants to play again, otherwise it returns False\n",
        "def play_Again():\n",
        "    print('Do you want to play again? (yes or no)')\n",
        "    # the input may be 'yes', 'Yes', 'YES', 'Y', 'y', 'Yup', etc...\n",
        "    return input().lower().startswith('y')"
      ],
      "execution_count": 5,
      "outputs": []
    },
    {
      "cell_type": "code",
      "metadata": {
        "id": "rMpxV_P4r0jO"
      },
      "source": [
        "#Making move on the board\n",
        "# The inputs are: the list of the board ->board, the player's letter(x or o) ->letter, the place(index)where the player want to play ->move\n",
        "def make_Move(board, letter, move):\n",
        "    board[move] = letter"
      ],
      "execution_count": 6,
      "outputs": []
    },
    {
      "cell_type": "code",
      "metadata": {
        "id": "yzAC6MVhttFN"
      },
      "source": [
        "# Checking if the player won\n",
        "def Winner(board, letter):\n",
        "    # Given a board and a player's letter, this function returns True if that player has won.\n",
        "    return ((board[7] == letter and board[8] == letter and board[9] == letter) or # across the top\n",
        "    (board[4] == letter and board[5] == letter and board[6] == letter) or # across the middle\n",
        "    (board[1] == letter and board[2] == letter and board[3] == letter) or # across the bottom\n",
        "    (board[7] == letter and board[4] == letter and board[1] == letter) or # down the left side\n",
        "    (board[8] == letter and board[5] == letter and board[2] == letter) or # down the middle\n",
        "    (board[9] == letter and board[6] == letter and board[3] == letter) or # down the right side\n",
        "    (board[7] == letter and board[5] == letter and board[3] == letter) or # diagonal\n",
        "    (board[9] == letter and board[5] == letter and board[1] == letter)) # diagonal"
      ],
      "execution_count": 7,
      "outputs": []
    },
    {
      "cell_type": "code",
      "metadata": {
        "id": "erIClXMtugtv"
      },
      "source": [
        "# Duplicating the Board elements\n",
        "# This function creats a copy of the original function (Board) and returns a reference to this new board(duplicatedBoard), not to the original one(Board)\n",
        "def getBoardCopy(board):\n",
        "    duplicatedBoard = []\n",
        "\n",
        "    for i in board:\n",
        "        duplicatedBoard.append(i)\n",
        "\n",
        "    return duplicatedBoard"
      ],
      "execution_count": 8,
      "outputs": []
    },
    {
      "cell_type": "code",
      "metadata": {
        "id": "5_ZCKYXIu4mw"
      },
      "source": [
        "#Checking if the desired space(index) is free\n",
        "# Return true if the passed move is free on the passed board.\n",
        "#note -->  free spaces on the board lists are marked as a single space string. \n",
        "def is_Space_Free(board, move):\n",
        "    return board[move] == ' '"
      ],
      "execution_count": 9,
      "outputs": []
    },
    {
      "cell_type": "code",
      "metadata": {
        "id": "Gn-Dd-iCv5u3"
      },
      "source": [
        "# Getting player's move\n",
        "# This function makes sure that the player will choose space within the board whose status is free\n",
        "def Player_Move(board):\n",
        "    move = ' '\n",
        "    while move not in '1 2 3 4 5 6 7 8 9'.split() or not is_Space_Free(board, int(move)):\n",
        "        print('What is your next move? (1-9)')\n",
        "        move = input()\n",
        "    return int(move)"
      ],
      "execution_count": 10,
      "outputs": []
    },
    {
      "cell_type": "code",
      "metadata": {
        "id": "b4oyvvHkwR4B"
      },
      "source": [
        "def choose_Random_Move(board, movesList):\n",
        "  possibleMoves = []\n",
        "  for i in movesList:\n",
        "    if is_Space_Free(board, i):\n",
        "      possibleMoves.append(i)\n",
        "  if len(possibleMoves) != 0:\n",
        "    return random.choice(possibleMoves)\n",
        "  else:\n",
        "    return None"
      ],
      "execution_count": 11,
      "outputs": []
    },
    {
      "cell_type": "markdown",
      "metadata": {
        "id": "Zom5ovSX5hV8"
      },
      "source": [
        "Tic Tac Toe computer working:\n",
        "\n",
        "·        First, see if there’s a move the computer can make that will win the game. If there is, take that move. Otherwise, go to the second step.\n",
        "\n",
        "·        Second, see if there’s a move the player can make that will cause the computer to lose the game. If there is, the computer should move there to block the player. Otherwise, go to the third step.\n",
        "\n",
        "·        Third, check if any of the corner spaces (spaces 1, 3, 7, or 9) are free. If no corner space is free, then go to the fourth step.\n",
        "\n",
        "·        Fourth, check if the center is free. If so, move there. If it isn’t, then go to the fifth step.\n",
        "\n",
        "·        Fifth, move on any of the side pieces (spaces 2, 4, 6, or 8). There are no more steps, because if the execution has reached this step then the side spaces are the only spaces left."
      ]
    },
    {
      "cell_type": "code",
      "metadata": {
        "id": "una1O7Pc5jIO"
      },
      "source": [
        "# Creating computer letter\n",
        "def Computer_Move(board, computerLetter):\n",
        "  if computerLetter == 'X':\n",
        "    playerLetter = 'O'\n",
        "  else:\n",
        "    playerLetter = 'X'\n",
        "\n",
        "#The Computer Checks if it Can Win in One Move\n",
        "    for i in range(1, 10):\n",
        "        copy = getBoardCopy(board)\n",
        "        if is_Space_Free(copy, i):\n",
        "            make_Move(copy, computerLetter, i)\n",
        "            if Winner(copy, computerLetter):\n",
        "                return i"
      ],
      "execution_count": 13,
      "outputs": []
    },
    {
      "cell_type": "markdown",
      "metadata": {
        "id": "TNKBmo8q7U3X"
      },
      "source": [
        "More than anything, if the computer can win in the next move, the computer should make that winning move immediately. The for loop that starts iterates over every possible move from 1 to 9. The code inside the loop will simulate what would happen if the computer made that move.\n",
        "\n",
        "The first line in the loop makes a copy of the board list. This is so the simulated move inside the loop doesn’t modify the real Tic Tac Toe board stored in the board variable. The getBoardCopy() returns an identical but separate board list value.\n",
        "\n",
        "then, the next if condition checks if the space is free and if so, simulates making the move on the copy of the board. If this move results in the computer winning, the function returns that move’s integer.\n",
        "\n",
        "If none of the spaces results in winning, the loop will finally end and the program execution continues ."
      ]
    },
    {
      "cell_type": "code",
      "metadata": {
        "id": "WnzHznN77pRw"
      },
      "source": [
        "def getComputerMove(board, computerLetter):\n",
        "    # Given a board and the computer's letter, determine where to move and return that move.\n",
        "    if computerLetter == 'X':\n",
        "        playerLetter = 'O'\n",
        "    else:\n",
        "        playerLetter = 'X'\n",
        "\n",
        "    # Here is our algorithm for our Tic Tac Toe AI:\n",
        "    # First, check if we can win in the next move\n",
        "    for i in range(1, 10):\n",
        "        copy = getBoardCopy(board)\n",
        "        if is_Space_Free(copy, i):\n",
        "            make_Move(copy, computerLetter, i)\n",
        "            if Winner(copy, computerLetter):\n",
        "                return i\n",
        "\n",
        "    # Check if the player could win on his next move, and block them.\n",
        "    for i in range(1, 10):\n",
        "        copy = getBoardCopy(board)\n",
        "        if is_Space_Free(copy, i):\n",
        "            make_Move(copy, playerLetter, i)\n",
        "            if Winner(copy, playerLetter):\n",
        "                return i\n",
        "\n",
        "# Checking the Corner, Center, and Side Spaces (in that Order)\n",
        "    # 1-check if the computer can take one of the corners, if they are free.\n",
        "    move = choose_Random_Move(board, [1, 3, 7, 9])\n",
        "    if move != None:\n",
        "      return move\n",
        "\n",
        "    # 2-check if the computer can take the center, if it is free.\n",
        "    if is_Space_Free(board, 5):\n",
        "      return 5\n",
        "\n",
        "    # 3- Move on one of the sides.\n",
        "    return choose_Random_Move(board, [2, 4, 6, 8])"
      ],
      "execution_count": 14,
      "outputs": []
    },
    {
      "cell_type": "code",
      "metadata": {
        "id": "8ZZ2h2zT8NCv"
      },
      "source": [
        "# Checking if the board is full\n",
        "# This function returns True if every space on the board has been taken. Otherwise return False.\n",
        "def is_Board_Full(board):\n",
        "    for i in range(1, 10):\n",
        "        if is_Space_Free(board, i):\n",
        "            return False\n",
        "    return True"
      ],
      "execution_count": 15,
      "outputs": []
    },
    {
      "cell_type": "code",
      "metadata": {
        "colab": {
          "base_uri": "https://localhost:8080/"
        },
        "id": "z58ebD7b-NfD",
        "outputId": "db9309be-eaf8-467d-bda4-97bae589e8d4"
      },
      "source": [
        "# The Start of the Game\n",
        "print('Welcome to Tic Tac Toe!')\n",
        "\n",
        "while True:\n",
        "    # Reset the board\n",
        "    theBoard = [' '] * 10\n",
        "    playerLetter, computerLetter = Player_Letter()\n",
        "    turn = who_is_First()\n",
        "    print('The ' + turn + ' will go first.')\n",
        "    gameIsPlaying = True\n",
        "\n",
        "    while gameIsPlaying:\n",
        "        if turn == 'player':\n",
        "            # Player's turn.\n",
        "            Board(theBoard)\n",
        "            move = Player_Move(theBoard)\n",
        "            make_Move(theBoard, playerLetter, move)\n",
        "\n",
        "            if Winner(theBoard, playerLetter):\n",
        "                Board(theBoard)\n",
        "                print('Hooray! You have won the game!')\n",
        "                gameIsPlaying = False\n",
        "            else:\n",
        "                if is_Board_Full(theBoard):\n",
        "                    Board(theBoard)\n",
        "                    print('The game is a tie!')\n",
        "                    break\n",
        "                else:\n",
        "                    turn = 'computer'\n",
        "\n",
        "        else:\n",
        "            # Computer's turn.\n",
        "            move = getComputerMove(theBoard, computerLetter)\n",
        "            make_Move(theBoard, computerLetter, move)\n",
        "\n",
        "            if Winner(theBoard, computerLetter):\n",
        "                Board(theBoard)\n",
        "                print('The computer has beaten you! You lose.')\n",
        "                gameIsPlaying = False\n",
        "            else:\n",
        "                if is_Board_Full(theBoard):\n",
        "                    Board(theBoard)\n",
        "                    print('The game is a tie!')\n",
        "                    break\n",
        "                else:\n",
        "                    turn = 'player'\n",
        "\n",
        "    if not play_Again():\n",
        "        break"
      ],
      "execution_count": 16,
      "outputs": [
        {
          "name": "stdout",
          "output_type": "stream",
          "text": [
            "Welcome to Tic Tac Toe!\n",
            "Choose your desired letter (X or O ?)\n",
            "x\n",
            "The player will go first.\n",
            "   |   |\n",
            "   |   |  \n",
            "   |   |\n",
            "-----------\n",
            "   |   |\n",
            "   |   |  \n",
            "   |   |\n",
            "-----------\n",
            "   |   |\n",
            "   |   |  \n",
            "   |   |\n",
            "What is your next move? (1-9)\n",
            "1\n",
            "   |   |\n",
            "   |   | O\n",
            "   |   |\n",
            "-----------\n",
            "   |   |\n",
            "   |   |  \n",
            "   |   |\n",
            "-----------\n",
            "   |   |\n",
            " X |   |  \n",
            "   |   |\n",
            "What is your next move? (1-9)\n",
            "2\n",
            "   |   |\n",
            "   |   | O\n",
            "   |   |\n",
            "-----------\n",
            "   |   |\n",
            "   |   |  \n",
            "   |   |\n",
            "-----------\n",
            "   |   |\n",
            " X | X | O\n",
            "   |   |\n",
            "What is your next move? (1-9)\n",
            "3\n",
            "What is your next move? (1-9)\n",
            "4\n",
            "   |   |\n",
            "   |   | O\n",
            "   |   |\n",
            "-----------\n",
            "   |   |\n",
            " X |   | O\n",
            "   |   |\n",
            "-----------\n",
            "   |   |\n",
            " X | X | O\n",
            "   |   |\n",
            "The computer has beaten you! You lose.\n",
            "Do you want to play again? (yes or no)\n",
            "no\n"
          ]
        }
      ]
    },
    {
      "cell_type": "code",
      "metadata": {
        "id": "7whgxBg1-ptB"
      },
      "source": [
        ""
      ],
      "execution_count": null,
      "outputs": []
    }
  ]
}